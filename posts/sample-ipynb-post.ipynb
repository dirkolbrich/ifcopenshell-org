{
 "cells": [
  {
   "cell_type": "markdown",
   "id": "ea2c1ef4",
   "metadata": {},
   "source": [
    "This is a sample blog post written as a Jupyter Notebook document."
   ]
  },
  {
   "cell_type": "code",
   "execution_count": null,
   "id": "c5aa09a2",
   "metadata": {},
   "outputs": [],
   "source": [
    "from matplotlib import pyplot as plt\n",
    "import numpy as np\n",
    "\n",
    "# Generate 100 random data points along 3 dimensions\n",
    "x, y, scale = np.random.randn(3, 100)\n",
    "fig, ax = plt.subplots()\n",
    "\n",
    "# Map each onto a scatterplot we'll create with Matplotlib\n",
    "ax.scatter(x=x, y=y, c=scale, s=np.abs(scale)*500)\n",
    "ax.set(title=\"Some random data, created with JupyterLab!\")\n",
    "plt.show()"
   ]
  }
 ],
 "metadata": {
  "kernelspec": {
   "display_name": "Python 3.10.6 ('venv': venv)",
   "language": "python",
   "name": "python3"
  },
  "language_info": {
   "codemirror_mode": {
    "name": "ipython",
    "version": 3
   },
   "file_extension": ".py",
   "mimetype": "text/x-python",
   "name": "python",
   "nbconvert_exporter": "python",
   "pygments_lexer": "ipython3",
   "version": "3.10.6"
  },
  "nikola": {
   "category": "",
   "date": "2022-09-21 10:05:34 UTC+02:00",
   "description": "",
   "link": "",
   "slug": "sample-ipynb-post",
   "tags": "",
   "title": "sample-ipynb-post",
   "type": "text"
  },
  "vscode": {
   "interpreter": {
    "hash": "19bc86aa26be8f370cdad483ba1b9de0a406ef24a8d94890b7f607e0565fb0cd"
   }
  }
 },
 "nbformat": 4,
 "nbformat_minor": 5
}
