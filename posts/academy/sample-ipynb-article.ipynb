{
    "cells": [
        {
            "cell_type": "markdown",
            "id": "ea2c1ef4",
            "metadata": {},
            "source": [
                "This is a sample academy article written as a Jupyter Notebook document."
            ]
        },
        {
            "cell_type": "code",
            "execution_count": 2,
            "id": "c5aa09a2",
            "metadata": {},
            "outputs": [
                {
                    "name": "stdout",
                    "output_type": "stream",
                    "text": [
                        "Hello world!\n"
                    ]
                }
            ],
            "source": [
                "print('Hello world!')"
            ]
        }
    ],
    "metadata": {
        "kernelspec": {
            "display_name": "Python 3.10.6 ('venv': venv)",
            "language": "python",
            "name": "python3"
        },
        "language_info": {
            "codemirror_mode": {
                "name": "ipython",
                "version": 3
            },
            "file_extension": ".py",
            "mimetype": "text/x-python",
            "name": "python",
            "nbconvert_exporter": "python",
            "pygments_lexer": "ipython3",
            "version": "3.10.6"
        },
        "nikola": {
            "category": "academy",
            "date": "2022-09-21 10:05:34 UTC+02:00",
            "description": "",
            "link": "",
            "slug": "sample-ipynb-article",
            "tags": "",
            "title": "Sample Jupyter article",
            "type": "text"
        },
        "vscode": {
            "interpreter": {
                "hash": "19bc86aa26be8f370cdad483ba1b9de0a406ef24a8d94890b7f607e0565fb0cd"
            }
        }
    },
    "nbformat": 4,
    "nbformat_minor": 5
}